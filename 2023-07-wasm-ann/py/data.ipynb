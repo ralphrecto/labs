{
 "cells": [
  {
   "cell_type": "code",
   "execution_count": 157,
   "source": [
    "from datasets import load_dataset\n",
    "import numpy as np\n",
    "import pandas as pd\n",
    "import math\n",
    "from ddsketch import DDSketch\n",
    "import time"
   ],
   "outputs": [],
   "metadata": {}
  },
  {
   "cell_type": "code",
   "execution_count": 49,
   "source": [
    "EMBEDDING_DIM = 768\n",
    "NUM_TREES = 10\n",
    "NUM_EMBEDDINGS = 35_167_920\n",
    "\n",
    "# Indicates target size for all embeddings in a leaf node.\n",
    "# Treat this like a 'page size', in that the client will load it all at once.\n",
    "TARGET_LEAF_SIZE_BYTES = 10 * (1024 * 1024)\n",
    "EMBEDDING_SIZE_BYTES = EMBEDDING_DIM * 8\n",
    "TARGET_LEAF_NUM_EMBEDDINGS = TARGET_LEAF_SIZE_BYTES // EMBEDDING_SIZE_BYTES\n",
    "\n",
    "TREE_DEPTH = math.ceil(math.log2(NUM_EMBEDDINGS) - math.log2(TARGET_LEAF_NUM_EMBEDDINGS))"
   ],
   "outputs": [],
   "metadata": {}
  },
  {
   "cell_type": "code",
   "execution_count": 50,
   "source": [
    "TREE_DEPTH"
   ],
   "outputs": [
    {
     "output_type": "execute_result",
     "data": {
      "text/plain": [
       "15"
      ]
     },
     "metadata": {},
     "execution_count": 50
    }
   ],
   "metadata": {}
  },
  {
   "cell_type": "code",
   "execution_count": 53,
   "source": [
    "random_vectors = np.random.normal(size=(NUM_TREES, math.floor(math.pow(2, TREE_DEPTH - 1)), EMBEDDING_DIM))"
   ],
   "outputs": [],
   "metadata": {}
  },
  {
   "cell_type": "code",
   "execution_count": 54,
   "source": [
    "random_vectors.shape"
   ],
   "outputs": [
    {
     "output_type": "execute_result",
     "data": {
      "text/plain": [
       "(10, 16384, 768)"
      ]
     },
     "metadata": {},
     "execution_count": 54
    }
   ],
   "metadata": {}
  },
  {
   "cell_type": "code",
   "execution_count": 59,
   "source": [
    "random_vectors.nbytes"
   ],
   "outputs": [
    {
     "output_type": "execute_result",
     "data": {
      "text/plain": [
       "1006632960"
      ]
     },
     "metadata": {},
     "execution_count": 59
    }
   ],
   "metadata": {}
  },
  {
   "cell_type": "code",
   "execution_count": 56,
   "source": [
    "sample_emb = np.array(doc[\"emb\"])"
   ],
   "outputs": [],
   "metadata": {}
  },
  {
   "cell_type": "code",
   "execution_count": 57,
   "source": [
    "rand_dot_prods = random_vectors @ sample_emb"
   ],
   "outputs": [],
   "metadata": {}
  },
  {
   "cell_type": "code",
   "execution_count": 63,
   "source": [
    "random_vectors.shape[:2]"
   ],
   "outputs": [
    {
     "output_type": "execute_result",
     "data": {
      "text/plain": [
       "(10, 16384)"
      ]
     },
     "metadata": {},
     "execution_count": 63
    }
   ],
   "metadata": {}
  },
  {
   "cell_type": "code",
   "execution_count": 132,
   "source": [
    "docs = load_dataset(f\"Cohere/wikipedia-22-12-en-embeddings\", split=\"train\", streaming=True)"
   ],
   "outputs": [
    {
     "output_type": "display_data",
     "data": {
      "application/vnd.jupyter.widget-view+json": {
       "version_major": 2,
       "version_minor": 0,
       "model_id": "64977131fe424db19be598d8634805a7"
      },
      "text/plain": [
       "Resolving data files:   0%|          | 0/253 [00:00<?, ?it/s]"
      ]
     },
     "metadata": {}
    }
   ],
   "metadata": {}
  },
  {
   "cell_type": "code",
   "execution_count": 133,
   "source": [
    "[dim_i, dim_j] = random_vectors.shape[:2]\n",
    "sketches = [[ DDSketch() for _  in range(dim_j)] for _ in range(dim_i)]"
   ],
   "outputs": [],
   "metadata": {}
  },
  {
   "cell_type": "markdown",
   "source": [
    "- A + B: 100 docs / 60 secs\n",
    "- A: 100 docs / 11 secs\n",
    "- loop only: 100 docs / 3 secs"
   ],
   "metadata": {}
  },
  {
   "cell_type": "code",
   "execution_count": 152,
   "source": [
    "def run(A=True, B=True, batch_size=1000, num_batches=20):\n",
    "    limit = batch_size * num_batches\n",
    "\n",
    "    num_docs = 0\n",
    "    elapsed = 0\n",
    "    last_time = time.time()\n",
    "\n",
    "    num_docs_snapshots = []\n",
    "    elapsed_snapshots = []\n",
    "    for doc_batch in docs.select_columns([\"id\", \"emb\"]).iter(batch_size=batch_size):\n",
    "        for emb in doc_batch[\"emb\"]:\n",
    "            num_docs += 1\n",
    "\n",
    "            if num_docs % batch_size == 0:\n",
    "                print(f\"num docs: {num_docs}\")\n",
    "                num_docs_snapshots.append(num_docs)\n",
    "\n",
    "                now = time.time()\n",
    "                elapsed += (now - last_time)\n",
    "                last_time = now\n",
    "                print(f\"elapsed secs: {elapsed}\")\n",
    "                elapsed_snapshots.append(elapsed)\n",
    "\n",
    "            if num_docs > limit:\n",
    "                return num_docs_snapshots, elapsed_snapshots\n",
    "\n",
    "        if A or B:\n",
    "            doc_emb = np.array(emb)\n",
    "            doc_dot_prods = random_vectors @ doc_emb\n",
    "\n",
    "            if B:\n",
    "                for i in range(dim_i):\n",
    "                    for j in range(dim_j):\n",
    "                        sketch_ij = sketches[i][j]\n",
    "                        elt = doc_dot_prods[i][j]\n",
    "\n",
    "                        sketch_ij.add(elt)"
   ],
   "outputs": [],
   "metadata": {}
  },
  {
   "cell_type": "code",
   "execution_count": 135,
   "source": [
    "%%time\n",
    "run(A=False, B=False) # loop only"
   ],
   "outputs": [
    {
     "output_type": "stream",
     "name": "stdout",
     "text": [
      "CPU times: user 723 ms, sys: 381 ms, total: 1.1 s\n",
      "Wall time: 3.44 s\n"
     ]
    }
   ],
   "metadata": {}
  },
  {
   "cell_type": "code",
   "execution_count": 136,
   "source": [
    "%%time\n",
    "run(A=True) # A only"
   ],
   "outputs": [
    {
     "output_type": "stream",
     "name": "stdout",
     "text": [
      "CPU times: user 643 ms, sys: 316 ms, total: 959 ms\n",
      "Wall time: 3.61 s\n"
     ]
    }
   ],
   "metadata": {}
  },
  {
   "cell_type": "code",
   "execution_count": 137,
   "source": [
    "%%time\n",
    "run(A=True, B=True) # A+B "
   ],
   "outputs": [
    {
     "output_type": "stream",
     "name": "stdout",
     "text": [
      "CPU times: user 628 ms, sys: 364 ms, total: 992 ms\n",
      "Wall time: 3.51 s\n"
     ]
    }
   ],
   "metadata": {}
  },
  {
   "cell_type": "code",
   "execution_count": 153,
   "source": [
    "num_docs1000, elapsed1000 = run(A=True, B=True, batch_size=1000, num_batches=20)"
   ],
   "outputs": [
    {
     "output_type": "stream",
     "name": "stdout",
     "text": [
      "num docs: 1000\n",
      "elapsed secs: 4.663612365722656\n",
      "num docs: 2000\n",
      "elapsed secs: 6.376014947891235\n",
      "num docs: 3000\n",
      "elapsed secs: 8.041577577590942\n",
      "num docs: 4000\n",
      "elapsed secs: 9.697885990142822\n",
      "num docs: 5000\n",
      "elapsed secs: 11.301748991012573\n",
      "num docs: 6000\n",
      "elapsed secs: 12.994666814804077\n",
      "num docs: 7000\n",
      "elapsed secs: 14.620779991149902\n",
      "num docs: 8000\n",
      "elapsed secs: 16.251445531845093\n",
      "num docs: 9000\n",
      "elapsed secs: 18.004244804382324\n",
      "num docs: 10000\n",
      "elapsed secs: 19.677164316177368\n",
      "num docs: 11000\n",
      "elapsed secs: 26.74987530708313\n",
      "num docs: 12000\n",
      "elapsed secs: 28.37944746017456\n",
      "num docs: 13000\n",
      "elapsed secs: 29.99368906021118\n",
      "num docs: 14000\n",
      "elapsed secs: 31.584722995758057\n",
      "num docs: 15000\n",
      "elapsed secs: 33.178316831588745\n",
      "num docs: 16000\n",
      "elapsed secs: 34.82650542259216\n",
      "num docs: 17000\n",
      "elapsed secs: 36.44316744804382\n",
      "num docs: 18000\n",
      "elapsed secs: 38.224344968795776\n",
      "num docs: 19000\n",
      "elapsed secs: 39.88154220581055\n",
      "num docs: 20000\n",
      "elapsed secs: 41.48381853103638\n"
     ]
    }
   ],
   "metadata": {}
  },
  {
   "cell_type": "code",
   "execution_count": 154,
   "source": [
    "num_docs100, elapsed100 = run(A=True, B=True, batch_size=100, num_batches=20)"
   ],
   "outputs": [
    {
     "output_type": "stream",
     "name": "stdout",
     "text": [
      "num docs: 100\n",
      "elapsed secs: 3.6992907524108887\n",
      "num docs: 200\n",
      "elapsed secs: 4.329741477966309\n",
      "num docs: 300\n",
      "elapsed secs: 4.977502346038818\n",
      "num docs: 400\n",
      "elapsed secs: 5.580400228500366\n",
      "num docs: 500\n",
      "elapsed secs: 6.185368061065674\n",
      "num docs: 600\n",
      "elapsed secs: 6.781221389770508\n",
      "num docs: 700\n",
      "elapsed secs: 7.380982875823975\n",
      "num docs: 800\n",
      "elapsed secs: 7.972169876098633\n",
      "num docs: 900\n",
      "elapsed secs: 8.56275224685669\n",
      "num docs: 1000\n",
      "elapsed secs: 9.15562629699707\n",
      "num docs: 1100\n",
      "elapsed secs: 9.766481637954712\n",
      "num docs: 1200\n",
      "elapsed secs: 10.3656325340271\n",
      "num docs: 1300\n",
      "elapsed secs: 10.964234352111816\n",
      "num docs: 1400\n",
      "elapsed secs: 11.550699472427368\n",
      "num docs: 1500\n",
      "elapsed secs: 12.145993709564209\n",
      "num docs: 1600\n",
      "elapsed secs: 12.776294708251953\n",
      "num docs: 1700\n",
      "elapsed secs: 13.3701491355896\n",
      "num docs: 1800\n",
      "elapsed secs: 13.96072268486023\n",
      "num docs: 1900\n",
      "elapsed secs: 14.559600353240967\n",
      "num docs: 2000\n",
      "elapsed secs: 15.152703285217285\n"
     ]
    }
   ],
   "metadata": {}
  },
  {
   "cell_type": "code",
   "execution_count": 155,
   "source": [
    "num_docs10000, elapsed10000 = run(A=True, B=True, batch_size=10_000, num_batches=20)"
   ],
   "outputs": [
    {
     "output_type": "stream",
     "name": "stdout",
     "text": [
      "num docs: 10000\n",
      "elapsed secs: 14.900989532470703\n",
      "num docs: 20000\n",
      "elapsed secs: 29.50673198699951\n",
      "num docs: 30000\n",
      "elapsed secs: 44.315420627593994\n",
      "num docs: 40000\n",
      "elapsed secs: 61.423789978027344\n",
      "num docs: 50000\n",
      "elapsed secs: 76.43049216270447\n",
      "num docs: 60000\n",
      "elapsed secs: 91.82649970054626\n",
      "num docs: 70000\n",
      "elapsed secs: 109.27441358566284\n",
      "num docs: 80000\n",
      "elapsed secs: 125.08651494979858\n",
      "num docs: 90000\n",
      "elapsed secs: 140.12612986564636\n",
      "num docs: 100000\n",
      "elapsed secs: 155.0685203075409\n",
      "num docs: 110000\n",
      "elapsed secs: 170.20307850837708\n",
      "num docs: 120000\n",
      "elapsed secs: 186.81411361694336\n",
      "num docs: 130000\n",
      "elapsed secs: 203.7083067893982\n",
      "num docs: 140000\n",
      "elapsed secs: 222.49331331253052\n",
      "num docs: 150000\n",
      "elapsed secs: 241.20133543014526\n",
      "num docs: 160000\n",
      "elapsed secs: 258.6295771598816\n",
      "num docs: 170000\n",
      "elapsed secs: 274.4133954048157\n",
      "num docs: 180000\n",
      "elapsed secs: 292.8266053199768\n",
      "num docs: 190000\n",
      "elapsed secs: 309.83854246139526\n",
      "num docs: 200000\n",
      "elapsed secs: 325.9315710067749\n"
     ]
    }
   ],
   "metadata": {}
  },
  {
   "cell_type": "code",
   "execution_count": 162,
   "source": [
    "num_docs100000, elapsed100000 = run(A=True, B=True, batch_size=100_000, num_batches=20)"
   ],
   "outputs": [],
   "metadata": {}
  },
  {
   "cell_type": "code",
   "execution_count": 159,
   "source": [
    "df = pd.DataFrame({\n",
    "    \"batch_100\": pd.Series(num_docs100) / pd.Series(elapsed100),\n",
    "    \"batch_1000\": pd.Series(num_docs1000) / pd.Series(elapsed1000),\n",
    "    \"batch_10000\": pd.Series(num_docs10000) / pd.Series(elapsed10000)\n",
    "})"
   ],
   "outputs": [],
   "metadata": {}
  },
  {
   "cell_type": "code",
   "execution_count": 161,
   "source": [
    "df.plot(kind=\"line\")"
   ],
   "outputs": [
    {
     "output_type": "execute_result",
     "data": {
      "text/plain": [
       "<Axes: >"
      ]
     },
     "metadata": {},
     "execution_count": 161
    },
    {
     "output_type": "display_data",
     "data": {
      "image/png": "[encoded data removed]",
      "text/plain": [
       "<Figure size 640x480 with 1 Axes>"
      ]
     },
     "metadata": {}
    }
   ],
   "metadata": {}
  }
 ],
 "metadata": {
  "orig_nbformat": 4,
  "language_info": {
   "name": "python",
   "version": "3.9.2",
   "mimetype": "text/x-python",
   "codemirror_mode": {
    "name": "ipython",
    "version": 3
   },
   "pygments_lexer": "ipython3",
   "nbconvert_exporter": "python",
   "file_extension": ".py"
  },
  "kernelspec": {
   "name": "python3",
   "display_name": "Python 3.9.2 64-bit ('ann-wasm': venv)"
  },
  "interpreter": {
   "hash": "23e56a55ad74033a61c0c8a411de1ac94d5f4ee34b8f3fa5f8cfee2aadec44d9"
  }
 },
 "nbformat": 4,
 "nbformat_minor": 2
}