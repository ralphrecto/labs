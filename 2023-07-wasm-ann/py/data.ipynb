{
 "cells": [
  {
   "cell_type": "code",
   "execution_count": 12,
   "source": [
    "from datasets import load_dataset\n",
    "import numpy as np\n",
    "import math"
   ],
   "outputs": [],
   "metadata": {}
  },
  {
   "cell_type": "code",
   "execution_count": 2,
   "source": [
    "docs = load_dataset(f\"Cohere/wikipedia-22-12-en-embeddings\", split=\"train\", streaming=True)"
   ],
   "outputs": [
    {
     "output_type": "display_data",
     "data": {
      "application/vnd.jupyter.widget-view+json": {
       "version_major": 2,
       "version_minor": 0,
       "model_id": "d8234f5a9e47433b87369d3b257caa62"
      },
      "text/plain": [
       "Resolving data files:   0%|          | 0/253 [00:00<?, ?it/s]"
      ]
     },
     "metadata": {}
    }
   ],
   "metadata": {}
  },
  {
   "cell_type": "code",
   "execution_count": 5,
   "source": [
    "for doc in docs:\n",
    "    print(len(doc[\"emb\"]))\n",
    "    break"
   ],
   "outputs": [
    {
     "output_type": "stream",
     "name": "stdout",
     "text": [
      "768\n"
     ]
    }
   ],
   "metadata": {}
  },
  {
   "cell_type": "code",
   "execution_count": 17,
   "source": [
    "EMBEDDING_DIM = 768\n",
    "NUM_TREES = 10\n",
    "NUM_EMBEDDINGS = 35_167_920\n",
    "\n",
    "# Indicates target size for all embeddings in a leaf node.\n",
    "# Treat this like a 'page size', in that the client will load it all at once.\n",
    "TARGET_LEAF_SIZE_BYTES = 1024 * 1024\n",
    "EMBEDDING_SIZE_BYTES = EMBEDDING_DIM * 8\n",
    "TARGET_LEAF_NUM_EMBEDDINGS = TARGET_LEAF_SIZE_BYTES // EMBEDDING_SIZE_BYTES\n",
    "\n",
    "TREE_DEPTH = math.ceil(math.log2(NUM_EMBEDDINGS) - math.log2(TARGET_LEAF_NUM_EMBEDDINGS))"
   ],
   "outputs": [],
   "metadata": {}
  },
  {
   "cell_type": "code",
   "execution_count": 24,
   "source": [
    "random_vectors = np.random.normal(size=(NUM_TREES, TREE_DEPTH, EMBEDDING_DIM))"
   ],
   "outputs": [],
   "metadata": {}
  },
  {
   "cell_type": "code",
   "execution_count": 30,
   "source": [
    "sample_emb = np.array(doc[\"emb\"])"
   ],
   "outputs": [],
   "metadata": {}
  },
  {
   "cell_type": "code",
   "execution_count": 48,
   "source": [
    "rand_dot_prods = random_vectors @ sample_emb"
   ],
   "outputs": [],
   "metadata": {}
  }
 ],
 "metadata": {
  "orig_nbformat": 4,
  "language_info": {
   "name": "python",
   "version": "3.9.2",
   "mimetype": "text/x-python",
   "codemirror_mode": {
    "name": "ipython",
    "version": 3
   },
   "pygments_lexer": "ipython3",
   "nbconvert_exporter": "python",
   "file_extension": ".py"
  },
  "kernelspec": {
   "name": "python3",
   "display_name": "Python 3.9.2 64-bit ('ann-wasm': venv)"
  },
  "interpreter": {
   "hash": "23e56a55ad74033a61c0c8a411de1ac94d5f4ee34b8f3fa5f8cfee2aadec44d9"
  }
 },
 "nbformat": 4,
 "nbformat_minor": 2
}