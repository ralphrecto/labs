{
 "cells": [
  {
   "cell_type": "code",
   "execution_count": 60,
   "source": [
    "from datasets import load_dataset\n",
    "import numpy as np\n",
    "import math\n",
    "from ddsketch import DDSketch"
   ],
   "outputs": [],
   "metadata": {}
  },
  {
   "cell_type": "code",
   "execution_count": 49,
   "source": [
    "EMBEDDING_DIM = 768\n",
    "NUM_TREES = 10\n",
    "NUM_EMBEDDINGS = 35_167_920\n",
    "\n",
    "# Indicates target size for all embeddings in a leaf node.\n",
    "# Treat this like a 'page size', in that the client will load it all at once.\n",
    "TARGET_LEAF_SIZE_BYTES = 10 * (1024 * 1024)\n",
    "EMBEDDING_SIZE_BYTES = EMBEDDING_DIM * 8\n",
    "TARGET_LEAF_NUM_EMBEDDINGS = TARGET_LEAF_SIZE_BYTES // EMBEDDING_SIZE_BYTES\n",
    "\n",
    "TREE_DEPTH = math.ceil(math.log2(NUM_EMBEDDINGS) - math.log2(TARGET_LEAF_NUM_EMBEDDINGS))"
   ],
   "outputs": [],
   "metadata": {}
  },
  {
   "cell_type": "code",
   "execution_count": 50,
   "source": [
    "TREE_DEPTH"
   ],
   "outputs": [
    {
     "output_type": "execute_result",
     "data": {
      "text/plain": [
       "15"
      ]
     },
     "metadata": {},
     "execution_count": 50
    }
   ],
   "metadata": {}
  },
  {
   "cell_type": "code",
   "execution_count": 53,
   "source": [
    "random_vectors = np.random.normal(size=(NUM_TREES, math.floor(math.pow(2, TREE_DEPTH - 1)), EMBEDDING_DIM))"
   ],
   "outputs": [],
   "metadata": {}
  },
  {
   "cell_type": "code",
   "execution_count": 54,
   "source": [
    "random_vectors.shape"
   ],
   "outputs": [
    {
     "output_type": "execute_result",
     "data": {
      "text/plain": [
       "(10, 16384, 768)"
      ]
     },
     "metadata": {},
     "execution_count": 54
    }
   ],
   "metadata": {}
  },
  {
   "cell_type": "code",
   "execution_count": 59,
   "source": [
    "random_vectors.nbytes"
   ],
   "outputs": [
    {
     "output_type": "execute_result",
     "data": {
      "text/plain": [
       "1006632960"
      ]
     },
     "metadata": {},
     "execution_count": 59
    }
   ],
   "metadata": {}
  },
  {
   "cell_type": "code",
   "execution_count": 56,
   "source": [
    "sample_emb = np.array(doc[\"emb\"])"
   ],
   "outputs": [],
   "metadata": {}
  },
  {
   "cell_type": "code",
   "execution_count": 57,
   "source": [
    "rand_dot_prods = random_vectors @ sample_emb"
   ],
   "outputs": [],
   "metadata": {}
  },
  {
   "cell_type": "code",
   "execution_count": 63,
   "source": [
    "random_vectors.shape[:2]"
   ],
   "outputs": [
    {
     "output_type": "execute_result",
     "data": {
      "text/plain": [
       "(10, 16384)"
      ]
     },
     "metadata": {},
     "execution_count": 63
    }
   ],
   "metadata": {}
  },
  {
   "cell_type": "code",
   "execution_count": null,
   "source": [
    "docs = load_dataset(f\"Cohere/wikipedia-22-12-en-embeddings\", split=\"train\", streaming=True)"
   ],
   "outputs": [],
   "metadata": {}
  },
  {
   "cell_type": "code",
   "execution_count": 74,
   "source": [
    "[dim_i, dim_j] = random_vectors.shape[:2]\n",
    "sketches = [[ DDSketch() for _  in range(dim_j)] for _ in range(dim_i)]"
   ],
   "outputs": [],
   "metadata": {}
  },
  {
   "cell_type": "code",
   "execution_count": 75,
   "source": [
    "num_docs = 0\n",
    "for doc in docs:\n",
    "    num_docs += 1\n",
    "\n",
    "    if num_docs > 10:\n",
    "        break\n",
    "\n",
    "    doc_emb = np.array(doc[\"emb\"])\n",
    "    doc_dot_prods = random_vectors @ doc_emb\n",
    "    for i in range(dim_i):\n",
    "        for j in range(dim_j):\n",
    "            sketch_ij = sketches[i][j]\n",
    "            elt = doc_dot_prods[i][j]\n",
    "\n",
    "            sketch_ij.add(elt)"
   ],
   "outputs": [],
   "metadata": {}
  },
  {
   "cell_type": "code",
   "execution_count": null,
   "source": [
    "rand_dot_prods = random_vectors @ sample_emb\n",
    "for i in range(dim_i):\n",
    "    for j in range(dim_j):\n",
    "        sketch_ij = sketches[i][j]\n",
    "        elt = rand_dot_prods[i][j]\n",
    "\n",
    "        sketch_ij.add(elt)"
   ],
   "outputs": [],
   "metadata": {}
  }
 ],
 "metadata": {
  "orig_nbformat": 4,
  "language_info": {
   "name": "python",
   "version": "3.9.2",
   "mimetype": "text/x-python",
   "codemirror_mode": {
    "name": "ipython",
    "version": 3
   },
   "pygments_lexer": "ipython3",
   "nbconvert_exporter": "python",
   "file_extension": ".py"
  },
  "kernelspec": {
   "name": "python3",
   "display_name": "Python 3.9.2 64-bit ('ann-wasm': venv)"
  },
  "interpreter": {
   "hash": "23e56a55ad74033a61c0c8a411de1ac94d5f4ee34b8f3fa5f8cfee2aadec44d9"
  }
 },
 "nbformat": 4,
 "nbformat_minor": 2
}