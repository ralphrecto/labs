{
 "cells": [
  {
   "cell_type": "code",
   "execution_count": 1,
   "source": [
    "import tiktoken\n",
    "import torch\n",
    "import torch.nn as nn\n",
    "import torch.nn.functional as F\n",
    "import gc\n",
    "import pandas as pd"
   ],
   "outputs": [],
   "metadata": {}
  },
  {
   "cell_type": "code",
   "execution_count": 2,
   "source": [
    "gc.collect()"
   ],
   "outputs": [
    {
     "output_type": "execute_result",
     "data": {
      "text/plain": [
       "16"
      ]
     },
     "metadata": {},
     "execution_count": 2
    }
   ],
   "metadata": {}
  },
  {
   "cell_type": "code",
   "execution_count": 3,
   "source": [
    "torch.manual_seed(1337)\n",
    "tokenizer = tiktoken.get_encoding(\"r50k_base\")"
   ],
   "outputs": [],
   "metadata": {}
  },
  {
   "cell_type": "code",
   "execution_count": 24,
   "source": [
    "context_len = 8\n",
    "batch_size = 4\n",
    "train_pct = 0.9\n",
    "embedding_dim = 32\n",
    "learning_rate = 1e-3"
   ],
   "outputs": [],
   "metadata": {}
  },
  {
   "cell_type": "code",
   "execution_count": 5,
   "source": [
    "with open(\"./data/tiny-shakespeare.txt\") as f:\n",
    "    tiny_shakespeare_lines = f.read()"
   ],
   "outputs": [],
   "metadata": {}
  },
  {
   "cell_type": "code",
   "execution_count": 6,
   "source": [
    "tokenized_shakespeare_raw = tokenizer.encode(tiny_shakespeare_lines)\n",
    "tokenized_shakespeare = torch.tensor(tokenized_shakespeare_raw)\n",
    "decoded_shakespeare = tokenizer.decode(tokenized_shakespeare_raw)"
   ],
   "outputs": [],
   "metadata": {}
  },
  {
   "cell_type": "code",
   "execution_count": 7,
   "source": [
    "train_n = int(train_pct * len(tokenized_shakespeare))\n",
    "train_data = tokenized_shakespeare[:train_n]\n",
    "val_data = tokenized_shakespeare[train_n:]"
   ],
   "outputs": [],
   "metadata": {}
  },
  {
   "cell_type": "code",
   "execution_count": 8,
   "source": [
    "def get_batch(split):\n",
    "    data = train_data if split == \"train\" else val_data\n",
    "    batch_ind = torch.randint(len(data) - context_len, (batch_size,))\n",
    "    x = torch.stack([data[i:i+context_len] for i in batch_ind])\n",
    "    y = torch.stack([data[i+1:i+context_len+1] for i in batch_ind])\n",
    "\n",
    "    return x, y"
   ],
   "outputs": [],
   "metadata": {}
  },
  {
   "cell_type": "code",
   "execution_count": 9,
   "source": [
    "class TransformerLM(nn.Module):\n",
    "    def __init__(self):\n",
    "        super().__init__()\n",
    "\n",
    "        self.token_embed = nn.Embedding(tokenizer.n_vocab, embedding_dim)\n",
    "        self.lm_head = nn.Linear(embedding_dim, tokenizer.n_vocab)\n",
    "\n",
    "    def forward(self, batch):\n",
    "        token_embeddings = self.token_embed(batch)\n",
    "        logits = self.lm_head(token_embeddings)\n",
    "\n",
    "        return logits"
   ],
   "outputs": [],
   "metadata": {}
  },
  {
   "cell_type": "code",
   "execution_count": 30,
   "source": [
    "class Trainer:\n",
    "\n",
    "    def __init__(self, model):\n",
    "        self.model = model\n",
    "        self.loss = F.cross_entropy\n",
    "        self.opt = torch.optim.AdamW(self.model.parameters(), lr=learning_rate)\n",
    "\n",
    "    def train(self, num_epochs):\n",
    "        train_losses = []\n",
    "        val_losses = []\n",
    "        for epoch in range(num_epochs):\n",
    "            # Q: why do we sample randomly instead of shuffling the whole dataset?\n",
    "            train_x, train_y = get_batch(\"train\")\n",
    "            val_x, val_y = get_batch(\"val\")\n",
    "\n",
    "            # batch len, context len, num channels\n",
    "            train_pred_x = self.model(train_x)\n",
    "            B, T, C = train_pred_x.shape\n",
    "\n",
    "            train_pred_x = train_pred_x.view(B*T, C)\n",
    "            train_y = train_y.view(B*T)\n",
    "\n",
    "            train_loss = self.loss(train_pred_x, train_y)\n",
    "            self.opt.zero_grad()\n",
    "            train_loss.backward()\n",
    "            self.opt.step()\n",
    "\n",
    "\n",
    "            val_pred_x = self.model(val_x)\n",
    "            val_pred_x = val_pred_x.view(B*T, C)\n",
    "            val_y = val_y.view(B*T)\n",
    "            val_loss = self.loss(val_pred_x, val_y)\n",
    "\n",
    "            train_losses.append(train_loss.item())\n",
    "            val_losses.append(val_loss.item())\n",
    "\n",
    "        return pd.DataFrame({\n",
    "            \"train\": train_losses,\n",
    "            \"val\": val_losses\n",
    "        })"
   ],
   "outputs": [],
   "metadata": {}
  },
  {
   "cell_type": "code",
   "execution_count": 26,
   "source": [
    "tlm = TransformerLM()\n",
    "trainer = Trainer(tlm)"
   ],
   "outputs": [],
   "metadata": {}
  },
  {
   "cell_type": "code",
   "execution_count": 29,
   "source": [
    "loss_df = trainer.train(2500)"
   ],
   "outputs": [],
   "metadata": {}
  },
  {
   "cell_type": "code",
   "execution_count": 31,
   "source": [
    "loss_df"
   ],
   "outputs": [
    {
     "output_type": "execute_result",
     "data": {
      "text/html": [
       "<div>\n",
       "<style scoped>\n",
       "    .dataframe tbody tr th:only-of-type {\n",
       "        vertical-align: middle;\n",
       "    }\n",
       "\n",
       "    .dataframe tbody tr th {\n",
       "        vertical-align: top;\n",
       "    }\n",
       "\n",
       "    .dataframe thead th {\n",
       "        text-align: right;\n",
       "    }\n",
       "</style>\n",
       "<table border=\"1\" class=\"dataframe\">\n",
       "  <thead>\n",
       "    <tr style=\"text-align: right;\">\n",
       "      <th></th>\n",
       "      <th>train</th>\n",
       "      <th>val</th>\n",
       "    </tr>\n",
       "  </thead>\n",
       "  <tbody>\n",
       "    <tr>\n",
       "      <th>0</th>\n",
       "      <td>8.172689</td>\n",
       "      <td>9.120704</td>\n",
       "    </tr>\n",
       "    <tr>\n",
       "      <th>1</th>\n",
       "      <td>6.615129</td>\n",
       "      <td>8.188423</td>\n",
       "    </tr>\n",
       "    <tr>\n",
       "      <th>2</th>\n",
       "      <td>7.810319</td>\n",
       "      <td>7.738827</td>\n",
       "    </tr>\n",
       "    <tr>\n",
       "      <th>3</th>\n",
       "      <td>8.562240</td>\n",
       "      <td>8.431386</td>\n",
       "    </tr>\n",
       "    <tr>\n",
       "      <th>4</th>\n",
       "      <td>8.839077</td>\n",
       "      <td>8.374770</td>\n",
       "    </tr>\n",
       "    <tr>\n",
       "      <th>...</th>\n",
       "      <td>...</td>\n",
       "      <td>...</td>\n",
       "    </tr>\n",
       "    <tr>\n",
       "      <th>2495</th>\n",
       "      <td>7.153203</td>\n",
       "      <td>7.327718</td>\n",
       "    </tr>\n",
       "    <tr>\n",
       "      <th>2496</th>\n",
       "      <td>6.157735</td>\n",
       "      <td>5.821607</td>\n",
       "    </tr>\n",
       "    <tr>\n",
       "      <th>2497</th>\n",
       "      <td>6.159129</td>\n",
       "      <td>6.673354</td>\n",
       "    </tr>\n",
       "    <tr>\n",
       "      <th>2498</th>\n",
       "      <td>6.005109</td>\n",
       "      <td>5.694264</td>\n",
       "    </tr>\n",
       "    <tr>\n",
       "      <th>2499</th>\n",
       "      <td>6.414113</td>\n",
       "      <td>7.339306</td>\n",
       "    </tr>\n",
       "  </tbody>\n",
       "</table>\n",
       "<p>2500 rows × 2 columns</p>\n",
       "</div>"
      ],
      "text/plain": [
       "         train       val\n",
       "0     8.172689  9.120704\n",
       "1     6.615129  8.188423\n",
       "2     7.810319  7.738827\n",
       "3     8.562240  8.431386\n",
       "4     8.839077  8.374770\n",
       "...        ...       ...\n",
       "2495  7.153203  7.327718\n",
       "2496  6.157735  5.821607\n",
       "2497  6.159129  6.673354\n",
       "2498  6.005109  5.694264\n",
       "2499  6.414113  7.339306\n",
       "\n",
       "[2500 rows x 2 columns]"
      ]
     },
     "metadata": {},
     "execution_count": 31
    }
   ],
   "metadata": {}
  },
  {
   "cell_type": "code",
   "execution_count": 32,
   "source": [
    "loss_df.plot()"
   ],
   "outputs": [
    {
     "output_type": "execute_result",
     "data": {
      "text/plain": [
       "<Axes: >"
      ]
     },
     "metadata": {},
     "execution_count": 32
    },
    {
     "output_type": "display_data",
     "data": {
      "image/png": "[encoded data removed]",
      "text/plain": [
       "<Figure size 640x480 with 1 Axes>"
      ]
     },
     "metadata": {}
    }
   ],
   "metadata": {}
  },
  {
   "cell_type": "code",
   "execution_count": 43,
   "source": [
    "x, y = get_batch(\"train\")"
   ],
   "outputs": [],
   "metadata": {}
  },
  {
   "cell_type": "code",
   "execution_count": 40,
   "source": [
    "    # def train(self, plot_cadence):\n",
    "    #     train_dataloader, val_dataloader = self.dataset.get_dataloaders(self.hyperparams[\"batch_size\"])\n",
    "\n",
    "    #     train_loss_hist = []\n",
    "    #     val_loss_hist = []\n",
    "    #     for epoch_num in range(self.hyperparams[\"num_epochs\"]):\n",
    "    #         for batch_num, (train_data, val_data) in enumerate(zip(train_dataloader, val_dataloader)):\n",
    "    #             train_X, train_y = train_data\n",
    "    #             val_X, val_y = val_data\n",
    "\n",
    "    #             pred_y = self.model(train_X)\n",
    "    #             loss = self.loss_fn(pred_y, train_y)\n",
    "\n",
    "    #             self.opt.zero_grad()\n",
    "    #             loss.backward()\n",
    "    #             self.opt.step()\n",
    "\n",
    "    #             val_pred_y = self.model(val_X)\n",
    "    #             val_loss = self.loss_fn(val_pred_y, val_y)\n",
    "                \n",
    "    #             if batch_num % plot_cadence == 0:\n",
    "    #                 train_loss_hist.append(loss.item())\n",
    "    #                 val_loss_hist.append(val_loss.item())\n",
    "\n",
    "    #     pd.DataFrame(dict(train=train_loss_hist, val=val_loss_hist)).plot()"
   ],
   "outputs": [],
   "metadata": {}
  }
 ],
 "metadata": {
  "orig_nbformat": 4,
  "language_info": {
   "name": "python",
   "version": "3.9.2",
   "mimetype": "text/x-python",
   "codemirror_mode": {
    "name": "ipython",
    "version": 3
   },
   "pygments_lexer": "ipython3",
   "nbconvert_exporter": "python",
   "file_extension": ".py"
  },
  "kernelspec": {
   "name": "python3",
   "display_name": "Python 3.9.2 64-bit ('labs': venv)"
  },
  "interpreter": {
   "hash": "9bef7ffd3d74ece40cb063ae5bcad1589cb5190380ef23643fa410f2e3c1382a"
  }
 },
 "nbformat": 4,
 "nbformat_minor": 2
}