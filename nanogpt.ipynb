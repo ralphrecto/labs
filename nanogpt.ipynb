{
 "cells": [
  {
   "cell_type": "code",
   "execution_count": 55,
   "source": [
    "import tiktoken\n",
    "from typing import Iterable, List\n",
    "import torch"
   ],
   "outputs": [],
   "metadata": {}
  },
  {
   "cell_type": "code",
   "execution_count": 57,
   "source": [
    "torch.manual_seed(1337)\n",
    "tokenizer = tiktoken.get_encoding(\"cl100k_base\")"
   ],
   "outputs": [],
   "metadata": {}
  },
  {
   "cell_type": "code",
   "execution_count": 96,
   "source": [
    "context_len = 8\n",
    "batch_size = 4\n",
    "train_pct = 0.9"
   ],
   "outputs": [],
   "metadata": {}
  },
  {
   "cell_type": "code",
   "execution_count": 66,
   "source": [
    "with open(\"./data/tiny-shakespeare.txt\") as f:\n",
    "    tiny_shakespeare_lines = f.read()"
   ],
   "outputs": [],
   "metadata": {}
  },
  {
   "cell_type": "code",
   "execution_count": 91,
   "source": [
    "tokenized_shakespeare_raw = tokenizer.encode(tiny_shakespeare_lines)\n",
    "tokenized_shakespeare = torch.tensor(tokenized_shakespeare_raw)\n",
    "decoded_shakespeare = tokenizer.decode(tokenized_shakespeare_raw)"
   ],
   "outputs": [],
   "metadata": {}
  },
  {
   "cell_type": "code",
   "execution_count": 92,
   "source": [
    "train_n = int(train_pct * len(tokenized_shakespeare))\n",
    "train_data = tokenized_shakespeare[:train_n]\n",
    "val_data = tokenized_shakespeare[train_n:]"
   ],
   "outputs": [],
   "metadata": {}
  },
  {
   "cell_type": "code",
   "execution_count": 101,
   "source": [
    "def get_batch(split):\n",
    "    data = train_data if split == \"train\" else val_data\n",
    "    batch_ind = torch.randint(len(data) - context_len, (batch_size,))\n",
    "    x = torch.stack([data[i:i+context_len] for i in batch_ind])\n",
    "    y = torch.stack([data[i+1:i+context_len+1] for i in batch_ind])\n",
    "\n",
    "    return x, y"
   ],
   "outputs": [],
   "metadata": {}
  },
  {
   "cell_type": "code",
   "execution_count": 106,
   "source": [
    "get_batch(\"train\")"
   ],
   "outputs": [
    {
     "output_type": "execute_result",
     "data": {
      "text/plain": [
       "(tensor([[21507,   323,   856,  2547,   596,  1062,   414,   345],\n",
       "         [   11,   422,   584,  3041,   499,   904,  3245,    11],\n",
       "         [13487,   304,   198,    69,  1540, 20901,    11, 96696],\n",
       "         [ 1053,   539,  8493,  2500,  1778,   264,  3814,   345]]),\n",
       " tensor([[  323,   856,  2547,   596,  1062,   414,   345,   644],\n",
       "         [  422,   584,  3041,   499,   904,  3245,    11,   584],\n",
       "         [  304,   198,    69,  1540, 20901,    11, 96696,    11],\n",
       "         [  539,  8493,  2500,  1778,   264,  3814,   345, 27831]]))"
      ]
     },
     "metadata": {},
     "execution_count": 106
    }
   ],
   "metadata": {}
  }
 ],
 "metadata": {
  "orig_nbformat": 4,
  "language_info": {
   "name": "python",
   "version": "3.9.2",
   "mimetype": "text/x-python",
   "codemirror_mode": {
    "name": "ipython",
    "version": 3
   },
   "pygments_lexer": "ipython3",
   "nbconvert_exporter": "python",
   "file_extension": ".py"
  },
  "kernelspec": {
   "name": "python3",
   "display_name": "Python 3.9.2 64-bit ('labs': venv)"
  },
  "interpreter": {
   "hash": "9bef7ffd3d74ece40cb063ae5bcad1589cb5190380ef23643fa410f2e3c1382a"
  }
 },
 "nbformat": 4,
 "nbformat_minor": 2
}